{
 "cells": [
  {
   "cell_type": "code",
   "execution_count": 2,
   "source": [
    "import numpy as np\r\n",
    "import pandas as pd\r\n",
    "import matplotlib.pyplot as plt \r\n",
    "\r\n",
    "%matplotlib qt"
   ],
   "outputs": [],
   "metadata": {}
  },
  {
   "cell_type": "code",
   "execution_count": 57,
   "source": [
    "from source.data import thai_df, world_df\r\n",
    "df = world_df.loc['IND']\r\n",
    "Tdf = thai_df\r\n",
    "\r\n",
    "def plot(isocode, col = 'new_cases_smoothed'):\r\n",
    "    df = world_df.loc[isocode]\r\n",
    "    case = df[col].to_numpy()\r\n",
    "    fig, ax = plt.subplots()\r\n",
    "    ax.set_ylabel(col)\r\n",
    "    ax.set_title(isocode)\r\n",
    "    ax.plot(case)\r\n",
    "    ax.bar(range(len(case)-1),np.diff(case))\r\n",
    "    plt.show()\r\n"
   ],
   "outputs": [],
   "metadata": {}
  },
  {
   "cell_type": "code",
   "execution_count": 58,
   "source": [
    "# 11 jun 2021\r\n",
    "plot('IND')\r\n",
    "plot('THA')\r\n",
    "plot('USA')\r\n",
    "plot('GBR')\r\n"
   ],
   "outputs": [],
   "metadata": {}
  }
 ],
 "metadata": {
  "orig_nbformat": 4,
  "language_info": {
   "name": "python",
   "version": "3.8.10",
   "mimetype": "text/x-python",
   "codemirror_mode": {
    "name": "ipython",
    "version": 3
   },
   "pygments_lexer": "ipython3",
   "nbconvert_exporter": "python",
   "file_extension": ".py"
  },
  "kernelspec": {
   "name": "python3",
   "display_name": "Python 3.8.10 64-bit (windows store)"
  },
  "interpreter": {
   "hash": "5d9d4356f63423a9db952e942f01ff911d2169310698950cf91fb0e39ffc07c5"
  }
 },
 "nbformat": 4,
 "nbformat_minor": 2
}